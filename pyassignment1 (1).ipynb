{
 "cells": [
  {
   "cell_type": "markdown",
   "id": "06b3c0df",
   "metadata": {},
   "source": [
    "Name: P.Rama krishna.i am submitting python assignment_1\n",
    "mail:rampachuri@gmail.com\n"
   ]
  },
  {
   "cell_type": "code",
   "execution_count": 2,
   "id": "d2ba4878",
   "metadata": {},
   "outputs": [
    {
     "data": {
      "text/plain": [
       "'Hello python'"
      ]
     },
     "execution_count": 2,
     "metadata": {},
     "output_type": "execute_result"
    }
   ],
   "source": [
    "\"Hello python\""
   ]
  },
  {
   "cell_type": "code",
   "execution_count": 3,
   "id": "cde2d69b",
   "metadata": {},
   "outputs": [
    {
     "data": {
      "text/plain": [
       "2"
      ]
     },
     "execution_count": 3,
     "metadata": {},
     "output_type": "execute_result"
    }
   ],
   "source": [
    "1+2\n"
   ]
  },
  {
   "cell_type": "code",
   "execution_count": 4,
   "id": "d13fd373",
   "metadata": {},
   "outputs": [
    {
     "data": {
      "text/plain": [
       "2.3333333333333335"
      ]
     },
     "execution_count": 4,
     "metadata": {},
     "output_type": "execute_result"
    }
   ],
   "source": [
    "7/3"
   ]
  },
  {
   "cell_type": "code",
   "execution_count": 5,
   "id": "c676c9b5",
   "metadata": {},
   "outputs": [
    {
     "data": {
      "text/plain": [
       "2"
      ]
     },
     "execution_count": 5,
     "metadata": {},
     "output_type": "execute_result"
    }
   ],
   "source": [
    "7//3"
   ]
  },
  {
   "cell_type": "code",
   "execution_count": 8,
   "id": "1ede068c",
   "metadata": {},
   "outputs": [
    {
     "name": "stdout",
     "output_type": "stream",
     "text": [
      "Please enter radius2\n",
      "The area of the traingle is 12.56636\n"
     ]
    }
   ],
   "source": [
    "user_input=int(input('Please enter radius'))\n",
    "pi=3.14159\n",
    "print('The area of the traingle is',pi*(user_input**2))\n"
   ]
  },
  {
   "cell_type": "code",
   "execution_count": 15,
   "id": "f072b8a0",
   "metadata": {},
   "outputs": [
    {
     "name": "stdout",
     "output_type": "stream",
     "text": [
      "enter first number5\n",
      "enter second number9\n",
      "values of a= 9\n",
      "value of b= 5\n"
     ]
    }
   ],
   "source": [
    "a=int(input('enter first number'))\n",
    "b=int(input('enter second number'))\n",
    "a,b=b,a\n",
    "print('values of a=',a)\n",
    "print('value of b=',b)"
   ]
  },
  {
   "cell_type": "code",
   "execution_count": 19,
   "id": "b418587c",
   "metadata": {},
   "outputs": [
    {
     "name": "stdout",
     "output_type": "stream",
     "text": [
      "The random from the list is:5\n"
     ]
    }
   ],
   "source": [
    "list=[1,3,5,7,9]\n",
    "import random\n",
    "print('The random from the list is:',end='')\n",
    "print(random.choice(list))"
   ]
  },
  {
   "cell_type": "code",
   "execution_count": null,
   "id": "37fb630f",
   "metadata": {},
   "outputs": [],
   "source": []
  }
 ],
 "metadata": {
  "kernelspec": {
   "display_name": "Python 3 (ipykernel)",
   "language": "python",
   "name": "python3"
  },
  "language_info": {
   "codemirror_mode": {
    "name": "ipython",
    "version": 3
   },
   "file_extension": ".py",
   "mimetype": "text/x-python",
   "name": "python",
   "nbconvert_exporter": "python",
   "pygments_lexer": "ipython3",
   "version": "3.9.13"
  }
 },
 "nbformat": 4,
 "nbformat_minor": 5
}
